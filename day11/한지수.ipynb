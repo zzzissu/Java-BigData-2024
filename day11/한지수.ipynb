{
 "cells": [
  {
   "cell_type": "markdown",
   "metadata": {},
   "source": [
    "## 1번 문제"
   ]
  },
  {
   "cell_type": "code",
   "execution_count": 34,
   "metadata": {},
   "outputs": [
    {
     "name": "stdout",
     "output_type": "stream",
     "text": [
      "홍길동님의 성별은 '여자'입니다.\n"
     ]
    }
   ],
   "source": [
    "# (주민번호)남녀 구분 프로그램\n",
    "\n",
    "def gender_num(num):\n",
    "    gender = int(num[7])\n",
    "    if gender in [1, 3, 5]:\n",
    "        return '남자'\n",
    "    elif gender in [2, 4, 6]:\n",
    "        return '여자'\n",
    "name = input('이름을 입력하세요:')\n",
    "first_num = int(input('주민번호 앞6자리를 입력하세요: '))\n",
    "sec_num = int(input('주민번호 뒤 7자리를 입력하세요: '))\n",
    "num = str(first_num) + '-' + str(sec_num)\n",
    "\n",
    "if len(num) != 14:\n",
    "    print('주민번호는 13자리여야 합니다.')\n",
    "else:\n",
    "    print(f\"{name}님의 성별은 '{gender_num(num)}'입니다.\")"
   ]
  },
  {
   "cell_type": "markdown",
   "metadata": {},
   "source": [
    "## 2번 문제"
   ]
  },
  {
   "cell_type": "code",
   "execution_count": 35,
   "metadata": {},
   "outputs": [
    {
     "name": "stdout",
     "output_type": "stream",
     "text": [
      "오늘은 '월요일'입니다.\n"
     ]
    }
   ],
   "source": [
    "#'MON', 'TUE', 'WED', 'TUR', 'FRI', 'SAT', 'SUN'를 입력하면, '오늘은 월요일~일요일 입니다'라는 메시지가 출력되는 프로그램을 작성하세요.\n",
    "\n",
    "def week_choice(dayweek):\n",
    "    week = {'MON': '월',\n",
    "            'TUE': '화',\n",
    "            'WED': '수',\n",
    "            'TUR': '목',\n",
    "            'FRI': '금',\n",
    "            'SAT': '토',\n",
    "            'SUN': '일'}\n",
    "    \n",
    "    if dayweek in week:\n",
    "        return week[dayweek]\n",
    "    else:\n",
    "        return\n",
    "    \n",
    "day = input(\"오늘의 요일을 'MON', 'TUE', 'WED', 'TUR', 'FRI', 'SAT', 'SUN'중에 입력하세요\\n > 요일: \")\n",
    "upday = week_choice(day.upper())    # 소문자로 입력해도 요일 추출 가능\n",
    "\n",
    "if upday:\n",
    "    print(f\"오늘은 '{upday}요일'입니다.\") \n",
    "else:\n",
    "    print('정확한 요일을 입력하세요.')"
   ]
  },
  {
   "cell_type": "markdown",
   "metadata": {},
   "source": [
    "## 3번 문제"
   ]
  },
  {
   "cell_type": "code",
   "execution_count": 37,
   "metadata": {},
   "outputs": [
    {
     "name": "stdout",
     "output_type": "stream",
     "text": [
      "나이를 입력하세요.\n",
      "애들은 가라\n"
     ]
    }
   ],
   "source": [
    "# 나이를 입력하면 19세 미만일 경우 입자을 못하게 하는 클럽 입장 프로그램을 작성하세요.\n",
    "\n",
    "def enter(age):\n",
    "    if age <= 19:\n",
    "        return '애들은 가라'\n",
    "    else:\n",
    "        return '어서옵쇼, 손님!!'\n",
    "\n",
    "print('나이를 입력하세요.')\n",
    "yourAge = int(input('나이: '))\n",
    "result = enter(yourAge)\n",
    "print(result)"
   ]
  },
  {
   "cell_type": "markdown",
   "metadata": {},
   "source": [
    "## 4번 문제"
   ]
  },
  {
   "cell_type": "code",
   "execution_count": 38,
   "metadata": {},
   "outputs": [
    {
     "name": "stdout",
     "output_type": "stream",
     "text": [
      "새로운 파일(result.txt)에 3의 배수와 5의 배수가 입력되었습니다.\n"
     ]
    }
   ],
   "source": [
    "# while 문을 사용, 1부터 1000 까지 에서 3과 5의 배수를 모두 구한뒤, result.txt에 저장하는 프로그램을 작성하세요.\n",
    "\n",
    "with open('result.txt', 'w') as newFile:\n",
    "    num = 1\n",
    "    while num <= 1000:\n",
    "        if num % 3 == 0 or num % 5 == 0:\n",
    "            newFile.write(str(num) + '\\n')\n",
    "        num += 1\n",
    "        \n",
    "print('새로운 파일(result.txt)에 3의 배수와 5의 배수가 입력되었습니다.')"
   ]
  },
  {
   "cell_type": "markdown",
   "metadata": {},
   "source": [
    "## 5번 문제"
   ]
  },
  {
   "cell_type": "code",
   "execution_count": 39,
   "metadata": {},
   "outputs": [
    {
     "name": "stdout",
     "output_type": "stream",
     "text": [
      "2024\\03%07 12**18//01\n"
     ]
    },
    {
     "name": "stderr",
     "output_type": "stream",
     "text": [
      "<>:6: SyntaxWarning: invalid escape sequence '\\%'\n",
      "<>:6: SyntaxWarning: invalid escape sequence '\\%'\n",
      "C:\\Users\\Administrator\\AppData\\Local\\Temp\\ipykernel_10724\\1921536726.py:6: SyntaxWarning: invalid escape sequence '\\%'\n",
      "  now = time.strftime('%Y\\%m') + '%' + time.strftime('%d %H**%M//%S')    # 형식에 따라 날짜 추출\n"
     ]
    }
   ],
   "source": [
    "# datetime 모듈을 사용, 지금 현재의 날짜와 시간을 출력하는 프로그램을 작성하세요.\n",
    "\n",
    "import datetime\n",
    "\n",
    "time = datetime.datetime.now()\n",
    "now = time.strftime('%Y\\%m') + '%' + time.strftime('%d %H**%M//%S')    # 형식에 따라 날짜 추출\n",
    "print(now)"
   ]
  }
 ],
 "metadata": {
  "kernelspec": {
   "display_name": "Python 3",
   "language": "python",
   "name": "python3"
  },
  "language_info": {
   "codemirror_mode": {
    "name": "ipython",
    "version": 3
   },
   "file_extension": ".py",
   "mimetype": "text/x-python",
   "name": "python",
   "nbconvert_exporter": "python",
   "pygments_lexer": "ipython3",
   "version": "3.12.2"
  }
 },
 "nbformat": 4,
 "nbformat_minor": 2
}
